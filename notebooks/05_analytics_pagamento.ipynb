{
 "cells": [
  {
   "cell_type": "code",
   "execution_count": 0,
   "metadata": {
    "application/vnd.databricks.v1+cell": {
     "cellMetadata": {
      "byteLimit": 2048000,
      "rowLimit": 10000
     },
     "inputWidgets": {},
     "nuid": "56f1692c-407c-44d7-8115-c160cce53cea",
     "showTitle": false,
     "tableResultSettingsMap": {},
     "title": ""
    }
   },
   "outputs": [],
   "source": [
    "silver_path = \"dbfs:/Volumes/nycproject/default/silver/nyc_taxi\"\n",
    "df = spark.read.format(\"delta\").load(silver_path)\n",
    "df.createOrReplaceTempView(\"nyc_taxi_analytics\")\n",
    "\n",
    "# Faturamento por tipo de pagamento\n",
    "query = \"\"\"\n",
    "SELECT \n",
    "  payment_type,\n",
    "  COUNT(*) AS total_viagens,\n",
    "  ROUND(SUM(total_amount), 2) AS faturado\n",
    "FROM nyc_taxi_analytics\n",
    "GROUP BY payment_type\n",
    "ORDER BY faturado DESC\n",
    "\"\"\"\n",
    "display(spark.sql(query))"
   ]
  },
  {
   "cell_type": "code",
   "execution_count": 0,
   "metadata": {
    "application/vnd.databricks.v1+cell": {
     "cellMetadata": {
      "byteLimit": 2048000,
      "rowLimit": 10000
     },
     "inputWidgets": {},
     "nuid": "c7e7ae63-2e9b-4a60-8a50-d782c4cb0eb5",
     "showTitle": false,
     "tableResultSettingsMap": {},
     "title": ""
    }
   },
   "outputs": [],
   "source": [
    "# Criar view temporária a partir da camada Silver \n",
    "silver_path = \"dbfs:/Volumes/nycproject/default/silver/nyc_taxi\"\n",
    "df_silver = spark.read.format(\"delta\").load(silver_path)\n",
    "df_silver.createOrReplaceTempView(\"nyc_taxi_analytics\")\n",
    "\n",
    "# Definir gold_viz_df com agregação por tipo de pagamento\n",
    "gold_viz_df = spark.sql(\"\"\"\n",
    "SELECT \n",
    "  payment_type,\n",
    "  COUNT(*) AS total_viagens\n",
    "FROM nyc_taxi_analytics\n",
    "GROUP BY payment_type\n",
    "\"\"\")\n"
   ]
  },
  {
   "cell_type": "code",
   "execution_count": 0,
   "metadata": {
    "application/vnd.databricks.v1+cell": {
     "cellMetadata": {
      "byteLimit": 2048000,
      "rowLimit": 10000
     },
     "inputWidgets": {},
     "nuid": "f2a154c2-a571-4378-8615-6271ca329434",
     "showTitle": false,
     "tableResultSettingsMap": {},
     "title": ""
    }
   },
   "outputs": [],
   "source": [
    "import seaborn as sns\n",
    "import matplotlib.pyplot as plt\n",
    "from pyspark.sql.functions import col\n",
    "\n",
    "# Converter para Pandas ordenado\n",
    "pandas_df = gold_viz_df.orderBy(col(\"total_viagens\").desc()).toPandas()\n",
    "\n",
    "# Gráfico\n",
    "plt.figure(figsize=(10, 6))\n",
    "barplot = sns.barplot(data=pandas_df, x=\"payment_type\", y=\"total_viagens\")\n",
    "\n",
    "# Texto acima das barras\n",
    "for index, row in pandas_df.iterrows():\n",
    "    barplot.text(index, row[\"total_viagens\"] + 1000,\n",
    "                 str(int(row[\"total_viagens\"])),\n",
    "                 color='black', ha=\"center\", fontsize=10)\n",
    "\n",
    "# Legenda traduzida\n",
    "legenda_pt = {\n",
    "    \"1\": \"Cartão de crédito\",\n",
    "    \"2\": \"Dinheiro\",\n",
    "    \"3\": \"Sem custo\",\n",
    "    \"4\": \"Disputa\",\n",
    "    \"5\": \"Desconhecido\",\n",
    "    \"6\": \"Viagem anulada\"\n",
    "}\n",
    "handles = [plt.Line2D([0], [0], color='gray', lw=4, label=f\"{k} = {v}\")\n",
    "           for k, v in legenda_pt.items()]\n",
    "plt.legend(handles=handles, title=\"Tipo de Pagamento\", bbox_to_anchor=(1.05, 1), loc='upper left')\n",
    "\n",
    "# Estética\n",
    "plt.title(\"Total de Viagens por Tipo de Pagamento\")\n",
    "plt.xlabel(\"Código do Pagamento\")\n",
    "plt.ylabel(\"Total de Viagens\")\n",
    "plt.xticks(rotation=45)\n",
    "plt.tight_layout()\n",
    "plt.show()\n"
   ]
  }
 ],
 "metadata": {
  "application/vnd.databricks.v1+notebook": {
   "computePreferences": null,
   "dashboards": [],
   "environmentMetadata": {
    "base_environment": "",
    "environment_version": "2"
   },
   "inputWidgetPreferences": null,
   "language": "python",
   "notebookMetadata": {
    "pythonIndentUnit": 4
   },
   "notebookName": "05_analytics_pagamento",
   "widgets": {}
  },
  "language_info": {
   "name": "python"
  }
 },
 "nbformat": 4,
 "nbformat_minor": 0
}
