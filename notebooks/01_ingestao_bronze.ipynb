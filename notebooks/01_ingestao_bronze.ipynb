{
 "cells": [
  {
   "cell_type": "code",
   "execution_count": 0,
   "metadata": {
    "application/vnd.databricks.v1+cell": {
     "cellMetadata": {
      "byteLimit": 2048000,
      "implicitDf": true,
      "rowLimit": 10000
     },
     "inputWidgets": {},
     "nuid": "52c2e48d-c73a-411f-ba20-d975b6ba40ed",
     "showTitle": false,
     "tableResultSettingsMap": {},
     "title": ""
    }
   },
   "outputs": [],
   "source": [
    "import zipfile\n",
    "import os\n",
    "from pyspark.sql import SparkSession\n",
    "\n",
    "# Caminhos\n",
    "zip_path = \"/Volumes/nycproject/default/nyc_volume/nyc_pipeline.zip\"\n",
    "extract_path = \"/Volumes/nycproject/default/nyc_volume/nyc_pipeline\"\n",
    "\n",
    "with zipfile.ZipFile(zip_path, \"r\") as zip_ref:\n",
    "    zip_ref.extractall(extract_path)\n",
    "\n",
    "print(\"Arquivos extraídos:\")\n",
    "print(os.listdir(extract_path))\n",
    "\n",
    "# Spark session\n",
    "spark = SparkSession.builder.appName(\"Ingestao Bronze\").getOrCreate()\n",
    "\n",
    "input_path = \"dbfs:/Volumes/nycproject/default/nyc_volume/nyc_pipeline/*.csv\"\n",
    "bronze_path = \"dbfs:/Volumes/nycproject/default/bronze/nyc_taxi\"\n",
    "\n",
    "df = spark.read.option(\"header\", \"true\").csv(input_path)\n",
    "df.write.format(\"delta\").mode(\"overwrite\").save(bronze_path)\n",
    "\n",
    "spark.sql(\"USE CATALOG nycproject\")\n",
    "spark.sql(\"USE SCHEMA default\")\n",
    "spark.sql(\"\"\"\n",
    "CREATE TABLE IF NOT EXISTS nyc_taxi_bronze\n",
    "USING DELTA\n",
    "AS SELECT * FROM delta.`/Volumes/nycproject/default/bronze/nyc_taxi`\n",
    "\"\"\")\n",
    "\n",
    "\n"
   ]
  },
  {
   "cell_type": "code",
   "execution_count": 0,
   "metadata": {
    "application/vnd.databricks.v1+cell": {
     "cellMetadata": {
      "byteLimit": 2048000,
      "rowLimit": 10000
     },
     "inputWidgets": {},
     "nuid": "9a5ce9e9-7f64-4aa8-911f-e1b77945ce02",
     "showTitle": false,
     "tableResultSettingsMap": {
      "0": {
       "dataGridStateBlob": "{\"version\":1,\"tableState\":{\"columnPinning\":{\"left\":[\"#row_number#\"],\"right\":[]},\"columnSizing\":{\"path\":521,\"name\":206},\"columnVisibility\":{}},\"settings\":{\"columns\":{}},\"syncTimestamp\":1753828788777}",
       "filterBlob": null,
       "queryPlanFiltersBlob": null,
       "tableResultIndex": 0
      }
     },
     "title": ""
    }
   },
   "outputs": [],
   "source": [
    "%fs ls /Volumes/nycproject/default/nyc_volume/nyc_pipeline/"
   ]
  },
  {
   "cell_type": "code",
   "execution_count": 0,
   "metadata": {
    "application/vnd.databricks.v1+cell": {
     "cellMetadata": {
      "byteLimit": 2048000,
      "rowLimit": 10000
     },
     "inputWidgets": {},
     "nuid": "ad46d63d-f5ea-4cfb-9f74-9b288c1614ee",
     "showTitle": false,
     "tableResultSettingsMap": {},
     "title": ""
    }
   },
   "outputs": [],
   "source": [
    "from pyspark.sql import SparkSession\n",
    "\n",
    "spark = SparkSession.builder.appName(\"Verifica Extração\").getOrCreate()\n",
    "\n",
    "# Caminho no DBFS\n",
    "csv_path = \"dbfs:/Volumes/nycproject/default/nyc_volume/nyc_pipeline/*.csv\"\n",
    "\n",
    "# Leitura\n",
    "df = spark.read.option(\"header\", \"true\").csv(csv_path)\n"
   ]
  },
  {
   "cell_type": "code",
   "execution_count": 0,
   "metadata": {
    "application/vnd.databricks.v1+cell": {
     "cellMetadata": {
      "byteLimit": 2048000,
      "rowLimit": 10000
     },
     "inputWidgets": {},
     "nuid": "2995c83f-1ed0-434a-ae29-662617bf08e6",
     "showTitle": false,
     "tableResultSettingsMap": {},
     "title": ""
    }
   },
   "outputs": [],
   "source": [
    "# Exibir esquema \n",
    "display(df)"
   ]
  }
 ],
 "metadata": {
  "application/vnd.databricks.v1+notebook": {
   "computePreferences": null,
   "dashboards": [],
   "environmentMetadata": {
    "base_environment": "",
    "environment_version": "2"
   },
   "inputWidgetPreferences": null,
   "language": "python",
   "notebookMetadata": {
    "mostRecentlyExecutedCommandWithImplicitDF": {
     "commandId": 6239608031142966,
     "dataframes": [
      "_sqldf"
     ]
    },
    "pythonIndentUnit": 4
   },
   "notebookName": "01_ingestao_bronze",
   "widgets": {}
  },
  "language_info": {
   "name": "python"
  }
 },
 "nbformat": 4,
 "nbformat_minor": 0
}
