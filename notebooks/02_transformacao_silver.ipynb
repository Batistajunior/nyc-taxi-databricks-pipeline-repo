{
 "cells": [
  {
   "cell_type": "code",
   "execution_count": 0,
   "metadata": {
    "application/vnd.databricks.v1+cell": {
     "cellMetadata": {
      "byteLimit": 2048000,
      "rowLimit": 10000
     },
     "inputWidgets": {},
     "nuid": "acd3bf2d-1df9-4a4e-8d67-56e646d46e88",
     "showTitle": false,
     "tableResultSettingsMap": {},
     "title": ""
    }
   },
   "outputs": [],
   "source": [
    "from pyspark.sql.functions import col, unix_timestamp, hour, month, year\n",
    "from pyspark.sql.types import DoubleType, IntegerType, TimestampType\n",
    "\n",
    "bronze_path = \"dbfs:/Volumes/nycproject/default/bronze/nyc_taxi\"\n",
    "silver_path = \"dbfs:/Volumes/nycproject/default/silver/nyc_taxi\"\n",
    "\n",
    "df = spark.read.format(\"delta\").load(bronze_path)\n",
    "\n",
    "df_clean = df \\\n",
    "    .withColumn(\"VendorID\", col(\"VendorID\").cast(IntegerType())) \\\n",
    "    .withColumn(\"passenger_count\", col(\"passenger_count\").cast(IntegerType())) \\\n",
    "    .withColumn(\"trip_distance\", col(\"trip_distance\").cast(DoubleType())) \\\n",
    "    .withColumn(\"fare_amount\", col(\"fare_amount\").cast(DoubleType())) \\\n",
    "    .withColumn(\"extra\", col(\"extra\").cast(DoubleType())) \\\n",
    "    .withColumn(\"mta_tax\", col(\"mta_tax\").cast(DoubleType())) \\\n",
    "    .withColumn(\"tip_amount\", col(\"tip_amount\").cast(DoubleType())) \\\n",
    "    .withColumn(\"tolls_amount\", col(\"tolls_amount\").cast(DoubleType())) \\\n",
    "    .withColumn(\"improvement_surcharge\", col(\"improvement_surcharge\").cast(DoubleType())) \\\n",
    "    .withColumn(\"total_amount\", col(\"total_amount\").cast(DoubleType())) \\\n",
    "    .withColumn(\"tpep_pickup_datetime\", col(\"tpep_pickup_datetime\").cast(TimestampType())) \\\n",
    "    .withColumn(\"tpep_dropoff_datetime\", col(\"tpep_dropoff_datetime\").cast(TimestampType()))\n",
    "\n",
    "df_silver = df_clean.dropna(subset=[\"tpep_pickup_datetime\", \"tpep_dropoff_datetime\", \"total_amount\"]).dropDuplicates() \\\n",
    "    .withColumn(\"trip_duration_min\", (unix_timestamp(\"tpep_dropoff_datetime\") - unix_timestamp(\"tpep_pickup_datetime\")) / 60) \\\n",
    "    .withColumn(\"pickup_hour\", hour(\"tpep_pickup_datetime\")) \\\n",
    "    .withColumn(\"pickup_month\", month(\"tpep_pickup_datetime\")) \\\n",
    "    .withColumn(\"pickup_year\", year(\"tpep_pickup_datetime\"))\n",
    "\n",
    "df_silver.write.format(\"delta\").mode(\"overwrite\").save(silver_path)"
   ]
  },
  {
   "cell_type": "code",
   "execution_count": 0,
   "metadata": {
    "application/vnd.databricks.v1+cell": {
     "cellMetadata": {
      "byteLimit": 2048000,
      "rowLimit": 10000
     },
     "inputWidgets": {},
     "nuid": "eaabf3a6-c904-44d0-9e33-402f8dc82862",
     "showTitle": false,
     "tableResultSettingsMap": {},
     "title": ""
    }
   },
   "outputs": [],
   "source": [
    "display(df_silver)\n"
   ]
  }
 ],
 "metadata": {
  "application/vnd.databricks.v1+notebook": {
   "computePreferences": null,
   "dashboards": [],
   "environmentMetadata": {
    "base_environment": "",
    "environment_version": "2"
   },
   "inputWidgetPreferences": null,
   "language": "python",
   "notebookMetadata": {
    "mostRecentlyExecutedCommandWithImplicitDF": {
     "commandId": 6239608031142990,
     "dataframes": [
      "_sqldf"
     ]
    },
    "pythonIndentUnit": 4
   },
   "notebookName": "02_transformacao_silver",
   "widgets": {}
  },
  "language_info": {
   "name": "python"
  }
 },
 "nbformat": 4,
 "nbformat_minor": 0
}
