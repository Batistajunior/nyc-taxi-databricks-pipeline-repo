{
 "cells": [
  {
   "cell_type": "code",
   "execution_count": 0,
   "metadata": {
    "application/vnd.databricks.v1+cell": {
     "cellMetadata": {
      "byteLimit": 2048000,
      "rowLimit": 10000
     },
     "inputWidgets": {},
     "nuid": "d42d9c51-e315-4acf-bc07-42b97f3f807f",
     "showTitle": false,
     "tableResultSettingsMap": {},
     "title": ""
    }
   },
   "outputs": [],
   "source": [
    "def test_trip_duration():\n",
    "    from pyspark.sql import Row\n",
    "    from pyspark.sql.functions import col, unix_timestamp\n",
    "\n",
    "    test_data = [Row(\n",
    "        tpep_pickup_datetime=\"2024-01-01 10:00:00\",\n",
    "        tpep_dropoff_datetime=\"2024-01-01 10:30:00\"\n",
    "    )]\n",
    "\n",
    "    df = spark.createDataFrame(test_data)\n",
    "    df = df.withColumn(\"pickup\", col(\"tpep_pickup_datetime\").cast(\"timestamp\"))\n",
    "    df = df.withColumn(\"dropoff\", col(\"tpep_dropoff_datetime\").cast(\"timestamp\"))\n",
    "    df = df.withColumn(\"trip_duration_min\", \n",
    "                       (unix_timestamp(\"dropoff\") - unix_timestamp(\"pickup\")) / 60)\n",
    "\n",
    "    resultado = df.first()[\"trip_duration_min\"]\n",
    "    print(\"Resultado:\", resultado)\n",
    "\n",
    "    assert resultado == 30\n",
    "\n",
    "# Executa o teste\n",
    "test_trip_duration()\n"
   ]
  }
 ],
 "metadata": {
  "application/vnd.databricks.v1+notebook": {
   "computePreferences": null,
   "dashboards": [],
   "environmentMetadata": {
    "base_environment": "",
    "environment_version": "2"
   },
   "inputWidgetPreferences": null,
   "language": "python",
   "notebookMetadata": {
    "pythonIndentUnit": 4
   },
   "notebookName": "06_test_trip_duration",
   "widgets": {}
  },
  "language_info": {
   "name": "python"
  }
 },
 "nbformat": 4,
 "nbformat_minor": 0
}
