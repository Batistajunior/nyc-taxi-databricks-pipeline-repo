{
 "cells": [
  {
   "cell_type": "code",
   "execution_count": 0,
   "metadata": {
    "application/vnd.databricks.v1+cell": {
     "cellMetadata": {
      "byteLimit": 2048000,
      "implicitDf": true,
      "rowLimit": 10000
     },
     "inputWidgets": {},
     "nuid": "8d1da95f-56e1-45dc-98ce-0199278f9a4f",
     "showTitle": false,
     "tableResultSettingsMap": {},
     "title": ""
    }
   },
   "outputs": [],
   "source": [
    "%sql\n",
    "CREATE OR REPLACE TABLE nycproject.default.nyc_taxi_gold\n",
    "USING DELTA\n",
    "PARTITIONED BY (pickup_year, pickup_month)\n",
    "AS\n",
    "SELECT \n",
    "  year(tpep_pickup_datetime) AS pickup_year,\n",
    "  month(tpep_pickup_datetime) AS pickup_month,\n",
    "  hour(tpep_pickup_datetime) AS pickup_hour,\n",
    "  COUNT(*) AS total_trips,\n",
    "  AVG(trip_duration_min) AS avg_duration,\n",
    "  AVG(trip_distance) AS avg_distance,\n",
    "  AVG(total_amount) AS avg_total_fare\n",
    "FROM delta.`/Volumes/nycproject/default/silver/nyc_taxi`\n",
    "GROUP BY \n",
    "  year(tpep_pickup_datetime),\n",
    "  month(tpep_pickup_datetime),\n",
    "  hour(tpep_pickup_datetime)\n"
   ]
  },
  {
   "cell_type": "code",
   "execution_count": 0,
   "metadata": {
    "application/vnd.databricks.v1+cell": {
     "cellMetadata": {
      "byteLimit": 2048000,
      "implicitDf": true,
      "rowLimit": 10000
     },
     "inputWidgets": {},
     "nuid": "c6d0f1a2-8c07-4b79-9897-2fdb32ee13f7",
     "showTitle": false,
     "tableResultSettingsMap": {},
     "title": ""
    }
   },
   "outputs": [],
   "source": [
    "%sql\n",
    "SELECT * FROM nycproject.default.nyc_taxi_gold ORDER BY pickup_month"
   ]
  }
 ],
 "metadata": {
  "application/vnd.databricks.v1+notebook": {
   "computePreferences": null,
   "dashboards": [],
   "environmentMetadata": {
    "base_environment": "",
    "environment_version": "2"
   },
   "inputWidgetPreferences": null,
   "language": "python",
   "notebookMetadata": {
    "mostRecentlyExecutedCommandWithImplicitDF": {
     "commandId": 6239608031142976,
     "dataframes": [
      "_sqldf"
     ]
    },
    "pythonIndentUnit": 4
   },
   "notebookName": "04_modelagem_sqlwarehouse",
   "widgets": {}
  },
  "language_info": {
   "name": "python"
  }
 },
 "nbformat": 4,
 "nbformat_minor": 0
}
