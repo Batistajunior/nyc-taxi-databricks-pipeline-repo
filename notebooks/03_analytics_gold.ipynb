{
 "cells": [
  {
   "cell_type": "code",
   "execution_count": 0,
   "metadata": {
    "application/vnd.databricks.v1+cell": {
     "cellMetadata": {
      "byteLimit": 2048000,
      "rowLimit": 10000
     },
     "inputWidgets": {},
     "nuid": "d7cd62a8-6852-4e13-8c36-8eada12f27d1",
     "showTitle": false,
     "tableResultSettingsMap": {},
     "title": ""
    }
   },
   "outputs": [],
   "source": [
    "from pyspark.sql.functions import count, avg, round\n",
    "\n",
    "# Caminho do Silver e destino da Gold\n",
    "silver_path = \"dbfs:/Volumes/nycproject/default/silver/nyc_taxi\"\n",
    "gold_path = \"dbfs:/Volumes/nycproject/default/gold/nyc_taxi_summary\"\n",
    "\n",
    "# Leitura da Silver\n",
    "df_silver = spark.read.format(\"delta\").load(silver_path)\n",
    "\n",
    "# Agregação\n",
    "df_gold = df_silver.groupBy(\"pickup_year\", \"pickup_month\", \"pickup_hour\") \\\n",
    "    .agg(\n",
    "        count(\"*\").alias(\"total_trips\"),\n",
    "        round(avg(\"trip_duration_min\"), 2).alias(\"avg_duration_min\"),\n",
    "        round(avg(\"trip_distance\"), 2).alias(\"avg_distance_miles\"),\n",
    "        round(avg(\"total_amount\"), 2).alias(\"avg_total_fare\")\n",
    "    )\n",
    "\n",
    "# Gravar Gold particionada por ano/mês\n",
    "df_gold.write.format(\"delta\").mode(\"overwrite\").partitionBy(\"pickup_year\", \"pickup_month\").save(gold_path)\n"
   ]
  },
  {
   "cell_type": "code",
   "execution_count": 0,
   "metadata": {
    "application/vnd.databricks.v1+cell": {
     "cellMetadata": {
      "byteLimit": 2048000,
      "rowLimit": 10000
     },
     "inputWidgets": {},
     "nuid": "6f6b65f4-f0b3-48dd-86d1-0e00355c369e",
     "showTitle": false,
     "tableResultSettingsMap": {},
     "title": ""
    }
   },
   "outputs": [],
   "source": [
    "# Caminhos\n",
    "bronze_path = \"dbfs:/Volumes/nycproject/default/bronze/nyc_taxi\"\n",
    "silver_path = \"dbfs:/Volumes/nycproject/default/silver/nyc_taxi\"\n",
    "gold_path   = \"dbfs:/Volumes/nycproject/default/gold/nyc_taxi_summary\"\n",
    "\n",
    "# Leitura das camadas\n",
    "df_bronze = spark.read.format(\"delta\").load(bronze_path)\n",
    "df_silver = spark.read.format(\"delta\").load(silver_path)\n",
    "df_gold   = spark.read.format(\"delta\").load(gold_path)\n",
    "\n",
    "# Validação de contagens\n",
    "print(\"📊 Total de registros\")\n",
    "print(f\"Bronze: {df_bronze.count()}\")\n",
    "print(f\"Silver: {df_silver.count()}\")\n",
    "print(f\"Gold: {df_gold.count()}\")\n",
    "\n",
    "# Visualização da tabela Gold\n",
    "display(df_gold)\n",
    "\n",
    "# Tabela simples: número de corridas por hora do dia\n",
    "df_gold.createOrReplaceTempView(\"vw_gold_summary\")\n",
    "spark.sql(\"\"\"\n",
    "    SELECT pickup_hour, SUM(total_trips) AS total_corridas\n",
    "    FROM vw_gold_summary\n",
    "    GROUP BY pickup_hour\n",
    "    ORDER BY total_corridas DESC\n",
    "\"\"\").display()\n"
   ]
  }
 ],
 "metadata": {
  "application/vnd.databricks.v1+notebook": {
   "computePreferences": null,
   "dashboards": [],
   "environmentMetadata": {
    "base_environment": "",
    "environment_version": "2"
   },
   "inputWidgetPreferences": null,
   "language": "python",
   "notebookMetadata": {
    "mostRecentlyExecutedCommandWithImplicitDF": {
     "commandId": -1,
     "dataframes": [
      "_sqldf"
     ]
    },
    "pythonIndentUnit": 4
   },
   "notebookName": "03_analytics_gold",
   "widgets": {}
  },
  "language_info": {
   "name": "python"
  }
 },
 "nbformat": 4,
 "nbformat_minor": 0
}
